{
 "cells": [
  {
   "cell_type": "markdown",
   "id": "5a757897-e4fe-4dae-b1b0-33b1d52616e9",
   "metadata": {
    "tags": []
   },
   "source": [
    "# Data Science Tools and Ecosystem"
   ]
  },
  {
   "cell_type": "markdown",
   "id": "4151ee6a-3fbf-4ed8-b1a5-912626c262f3",
   "metadata": {},
   "source": [
    "In this notebook, Data Science Tools and Ecosystem are summarized."
   ]
  },
  {
   "cell_type": "markdown",
   "id": "5c2c6ecf-d3a3-4da9-b93a-3491d50dfcae",
   "metadata": {},
   "source": [
    "Some of the popular languages that Data Scientists use are:\n",
    "\n",
    "1. Python\n",
    "2. R\n",
    "3. Julia"
   ]
  },
  {
   "cell_type": "markdown",
   "id": "6295c301-e506-4de5-b9aa-0ff1b75c9838",
   "metadata": {},
   "source": [
    "Some of the commonly used libraries used by Data Scientists include:\n",
    "    1. Pandas\n",
    "    2. matplotlib\n",
    "    3. Seaborn"
   ]
  },
  {
   "cell_type": "markdown",
   "id": "7e84be74-004a-4644-86b2-0acb0fadb03c",
   "metadata": {},
   "source": [
    "| Data Science Tools     |\n",
    "|------------------------|\n",
    "| Jupyter Notebook       |\n",
    "| RStudio                |\n",
    "| Apache Zeppelin        |\n"
   ]
  },
  {
   "cell_type": "code",
   "execution_count": null,
   "id": "69634da8-c917-4f73-898a-e89f7ef2efa6",
   "metadata": {},
   "outputs": [],
   "source": [
    "### Below are a few examples of evaluating arithmetic expressions in Python"
   ]
  },
  {
   "cell_type": "code",
   "execution_count": 1,
   "id": "1c8e0a88-79fc-45bf-8478-7ce890d7fb13",
   "metadata": {
    "tags": []
   },
   "outputs": [
    {
     "data": {
      "text/plain": [
       "17"
      ]
     },
     "execution_count": 1,
     "metadata": {},
     "output_type": "execute_result"
    }
   ],
   "source": [
    "# This a simple arithmetic expression to mutiply then add integers\n",
    "(3*4)+5\n"
   ]
  },
  {
   "cell_type": "code",
   "execution_count": 2,
   "id": "ea5ea87f-4937-4ba7-a6fa-eaf74d88ae16",
   "metadata": {
    "tags": []
   },
   "outputs": [
    {
     "data": {
      "text/plain": [
       "3.3333333333333335"
      ]
     },
     "execution_count": 2,
     "metadata": {},
     "output_type": "execute_result"
    }
   ],
   "source": [
    "# This will convert 200 minutes to hours by diving by 60\n",
    "\n",
    "200/60"
   ]
  },
  {
   "cell_type": "markdown",
   "id": "4ad39d72-ae87-4056-bda7-d16edb8f6db1",
   "metadata": {},
   "source": [
    "**Objectives:**\n",
    "* List languages\n",
    "* List Tools\n",
    "* List Libraries\n"
   ]
  },
  {
   "cell_type": "markdown",
   "id": "154e3732-c6fe-4cae-bf17-251546542b89",
   "metadata": {},
   "source": [
    "## Author\n",
    "Emils Berzs"
   ]
  }
 ],
 "metadata": {
  "kernelspec": {
   "display_name": "Python",
   "language": "python",
   "name": "conda-env-python-py"
  },
  "language_info": {
   "codemirror_mode": {
    "name": "ipython",
    "version": 3
   },
   "file_extension": ".py",
   "mimetype": "text/x-python",
   "name": "python",
   "nbconvert_exporter": "python",
   "pygments_lexer": "ipython3",
   "version": "3.7.12"
  }
 },
 "nbformat": 4,
 "nbformat_minor": 5
}
